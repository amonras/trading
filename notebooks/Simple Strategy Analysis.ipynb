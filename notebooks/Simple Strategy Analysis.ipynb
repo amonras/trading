{
 "cells": [
  {
   "cell_type": "markdown",
   "id": "c262301e-4a69-455a-97e6-8b599db63a86",
   "metadata": {},
   "source": [
    "# First backtesting optimization analysis"
   ]
  },
  {
   "cell_type": "code",
   "execution_count": 1,
   "id": "eb89fe74-d376-48f7-b9ef-23fe60961af7",
   "metadata": {},
   "outputs": [],
   "source": [
    "from strategies import *\n",
    "from optimization.genetic import optimize\n",
    "from datetime import datetime"
   ]
  },
  {
   "cell_type": "code",
   "execution_count": 7,
   "id": "28d00b69-68bf-40e4-94ea-0e15b06706d1",
   "metadata": {},
   "outputs": [
    {
     "name": "stderr",
     "output_type": "stream",
     "text": [
      "100%|██████████████████████████████████████████████████████████████████████████████████████████████████████████████████████| 50/50 [16:37<00:00, 19.95s/it]\n"
     ]
    }
   ],
   "source": [
    "now = int(datetime.now().timestamp() * 1000)\n",
    "\n",
    "results = optimize('binance', 'BTCUSDT', 'sma', '15m', 0, now, 60, 50)"
   ]
  },
  {
   "cell_type": "code",
   "execution_count": 8,
   "id": "6dd9f820-54c9-4216-bf7a-05fde249d898",
   "metadata": {},
   "outputs": [
    {
     "data": {
      "text/plain": [
       "[PNL = 145.03 Max. Drawdown = 16.12 Parameters = {'slow_ma': 194, 'fast_ma': 5} Rank = 0 Crowding Distance = inf,\n",
       " PNL = 167.7 Max. Drawdown = 16.64 Parameters = {'slow_ma': 192, 'fast_ma': 4} Rank = 0 Crowding Distance = 0.8298328907115231,\n",
       " PNL = 170.73 Max. Drawdown = 20.45 Parameters = {'slow_ma': 196, 'fast_ma': 3} Rank = 0 Crowding Distance = 0.5359522851524107,\n",
       " PNL = 170.74 Max. Drawdown = 30.38 Parameters = {'slow_ma': 193, 'fast_ma': 2} Rank = 0 Crowding Distance = 1.170167109288477,\n",
       " PNL = 182.47 Max. Drawdown = 46.35 Parameters = {'slow_ma': 51, 'fast_ma': 46} Rank = 0 Crowding Distance = inf,\n",
       " PNL = 138.63 Max. Drawdown = 16.23 Parameters = {'slow_ma': 185, 'fast_ma': 4} Rank = 1 Crowding Distance = inf,\n",
       " PNL = 163.93 Max. Drawdown = 17.0 Parameters = {'slow_ma': 196, 'fast_ma': 4} Rank = 1 Crowding Distance = 0.7408227336922132,\n",
       " PNL = 164.91 Max. Drawdown = 17.02 Parameters = {'slow_ma': 193, 'fast_ma': 4} Rank = 1 Crowding Distance = 0.05344015315561977,\n",
       " PNL = 164.99 Max. Drawdown = 18.07 Parameters = {'slow_ma': 193, 'fast_ma': 3} Rank = 1 Crowding Distance = 0.3094861482789839,\n",
       " PNL = 168.39 Max. Drawdown = 26.44 Parameters = {'slow_ma': 191, 'fast_ma': 2} Rank = 1 Crowding Distance = 0.3610756464563818,\n",
       " PNL = 170.71 Max. Drawdown = 27.05 Parameters = {'slow_ma': 192, 'fast_ma': 2} Rank = 1 Crowding Distance = 0.9496911180288029,\n",
       " PNL = 174.98 Max. Drawdown = 60.29 Parameters = {'slow_ma': 64, 'fast_ma': 46} Rank = 1 Crowding Distance = inf,\n",
       " PNL = 137.11 Max. Drawdown = 16.33 Parameters = {'slow_ma': 184, 'fast_ma': 4} Rank = 2 Crowding Distance = inf,\n",
       " PNL = 158.59 Max. Drawdown = 17.02 Parameters = {'slow_ma': 195, 'fast_ma': 4} Rank = 2 Crowding Distance = 0.6493680946384702,\n",
       " PNL = 158.69 Max. Drawdown = 17.25 Parameters = {'slow_ma': 191, 'fast_ma': 4} Rank = 2 Crowding Distance = 0.08322676738277467,\n",
       " PNL = 160.68 Max. Drawdown = 18.04 Parameters = {'slow_ma': 192, 'fast_ma': 3} Rank = 2 Crowding Distance = 0.16537373655509002,\n",
       " PNL = 163.28 Max. Drawdown = 18.69 Parameters = {'slow_ma': 200, 'fast_ma': 4} Rank = 2 Crowding Distance = 0.21848042170667462,\n",
       " PNL = 164.95 Max. Drawdown = 22.31 Parameters = {'slow_ma': 199, 'fast_ma': 3} Rank = 2 Crowding Distance = 0.4823319934628411,\n",
       " PNL = 170.6 Max. Drawdown = 30.9 Parameters = {'slow_ma': 194, 'fast_ma': 2} Rank = 2 Crowding Distance = 1.05670094589309,\n",
       " PNL = 171.4 Max. Drawdown = 61.76 Parameters = {'slow_ma': 52, 'fast_ma': 46} Rank = 2 Crowding Distance = inf,\n",
       " PNL = 154.17 Max. Drawdown = 17.02 Parameters = {'slow_ma': 194, 'fast_ma': 4} Rank = 3 Crowding Distance = inf,\n",
       " PNL = 157.31 Max. Drawdown = 17.9 Parameters = {'slow_ma': 191, 'fast_ma': 3} Rank = 3 Crowding Distance = 0.6755072593869513,\n",
       " PNL = 163.11 Max. Drawdown = 19.03 Parameters = {'slow_ma': 194, 'fast_ma': 3} Rank = 3 Crowding Distance = 1.7533147069279804,\n",
       " PNL = 170.17 Max. Drawdown = 34.24 Parameters = {'slow_ma': 64, 'fast_ma': 31} Rank = 3 Crowding Distance = inf,\n",
       " PNL = 133.77 Max. Drawdown = 17.23 Parameters = {'slow_ma': 192, 'fast_ma': 6} Rank = 4 Crowding Distance = inf,\n",
       " PNL = 138.06 Max. Drawdown = 17.32 Parameters = {'slow_ma': 198, 'fast_ma': 6} Rank = 4 Crowding Distance = 0.41411589619996475,\n",
       " PNL = 145.84 Max. Drawdown = 17.39 Parameters = {'slow_ma': 190, 'fast_ma': 6} Rank = 4 Crowding Distance = 0.38502482000628324,\n",
       " PNL = 149.24 Max. Drawdown = 17.52 Parameters = {'slow_ma': 190, 'fast_ma': 4} Rank = 4 Crowding Distance = 0.2920982848154546,\n",
       " PNL = 154.11 Max. Drawdown = 17.8 Parameters = {'slow_ma': 188, 'fast_ma': 3} Rank = 4 Crowding Distance = 0.3128780938107869,\n",
       " PNL = 157.16 Max. Drawdown = 19.05 Parameters = {'slow_ma': 195, 'fast_ma': 3} Rank = 4 Crowding Distance = 0.19971075072766475,\n",
       " PNL = 157.45 Max. Drawdown = 20.8 Parameters = {'slow_ma': 197, 'fast_ma': 4} Rank = 4 Crowding Distance = 0.2381613673013624,\n",
       " PNL = 162.59 Max. Drawdown = 20.93 Parameters = {'slow_ma': 197, 'fast_ma': 3} Rank = 4 Crowding Distance = 1.094075068256916,\n",
       " PNL = 163.25 Max. Drawdown = 51.96 Parameters = {'slow_ma': 50, 'fast_ma': 46} Rank = 4 Crowding Distance = inf,\n",
       " PNL = 138.94 Max. Drawdown = 17.39 Parameters = {'slow_ma': 191, 'fast_ma': 6} Rank = 5 Crowding Distance = inf,\n",
       " PNL = 146.62 Max. Drawdown = 17.74 Parameters = {'slow_ma': 186, 'fast_ma': 3} Rank = 5 Crowding Distance = 0.39931585888649285,\n",
       " PNL = 147.15 Max. Drawdown = 17.76 Parameters = {'slow_ma': 196, 'fast_ma': 5} Rank = 5 Crowding Distance = 0.2052272927332748,\n",
       " PNL = 150.65 Max. Drawdown = 18.04 Parameters = {'slow_ma': 198, 'fast_ma': 7} Rank = 5 Crowding Distance = 0.29544744046496285,\n",
       " PNL = 151.26 Max. Drawdown = 19.2 Parameters = {'slow_ma': 187, 'fast_ma': 3} Rank = 5 Crowding Distance = 0.32388956301607724,\n",
       " PNL = 153.87 Max. Drawdown = 20.38 Parameters = {'slow_ma': 196, 'fast_ma': 8} Rank = 5 Crowding Distance = 0.4025245190430234,\n",
       " PNL = 157.35 Max. Drawdown = 20.87 Parameters = {'slow_ma': 199, 'fast_ma': 4} Rank = 5 Crowding Distance = 0.3533334246281719,\n",
       " PNL = 159.66 Max. Drawdown = 21.58 Parameters = {'slow_ma': 200, 'fast_ma': 3} Rank = 5 Crowding Distance = 0.7416450575596468,\n",
       " PNL = 160.06 Max. Drawdown = 28.97 Parameters = {'slow_ma': 59, 'fast_ma': 30} Rank = 5 Crowding Distance = 0.7438426811319716,\n",
       " PNL = 161.07 Max. Drawdown = 30.49 Parameters = {'slow_ma': 195, 'fast_ma': 2} Rank = 5 Crowding Distance = inf,\n",
       " PNL = 143.88 Max. Drawdown = 17.75 Parameters = {'slow_ma': 195, 'fast_ma': 5} Rank = 6 Crowding Distance = inf,\n",
       " PNL = 145.44 Max. Drawdown = 17.93 Parameters = {'slow_ma': 192, 'fast_ma': 5} Rank = 6 Crowding Distance = 0.18071761039021744,\n",
       " PNL = 145.93 Max. Drawdown = 18.37 Parameters = {'slow_ma': 189, 'fast_ma': 6} Rank = 6 Crowding Distance = 0.3679067734435302,\n",
       " PNL = 150.35 Max. Drawdown = 18.52 Parameters = {'slow_ma': 189, 'fast_ma': 3} Rank = 6 Crowding Distance = 0.4224973087702739,\n",
       " PNL = 151.17 Max. Drawdown = 19.41 Parameters = {'slow_ma': 197, 'fast_ma': 7} Rank = 6 Crowding Distance = 0.5451405604333265,\n",
       " PNL = 154.42 Max. Drawdown = 22.31 Parameters = {'slow_ma': 200, 'fast_ma': 7} Rank = 6 Crowding Distance = 0.5759426860707464,\n",
       " PNL = 156.43 Max. Drawdown = 22.53 Parameters = {'slow_ma': 198, 'fast_ma': 3} Rank = 6 Crowding Distance = 0.5589805872306681,\n",
       " PNL = 157.9 Max. Drawdown = 26.82 Parameters = {'slow_ma': 190, 'fast_ma': 2} Rank = 6 Crowding Distance = 0.8208423947687623,\n",
       " PNL = 158.98 Max. Drawdown = 31.49 Parameters = {'slow_ma': 198, 'fast_ma': 2} Rank = 6 Crowding Distance = inf,\n",
       " PNL = 143.36 Max. Drawdown = 18.14 Parameters = {'slow_ma': 191, 'fast_ma': 5} Rank = 7 Crowding Distance = inf,\n",
       " PNL = 148.28 Max. Drawdown = 18.55 Parameters = {'slow_ma': 189, 'fast_ma': 4} Rank = 7 Crowding Distance = 0.5133743245384269,\n",
       " PNL = 150.18 Max. Drawdown = 18.66 Parameters = {'slow_ma': 190, 'fast_ma': 3} Rank = 7 Crowding Distance = 0.24662578678918892,\n",
       " PNL = 150.82 Max. Drawdown = 19.8 Parameters = {'slow_ma': 196, 'fast_ma': 7} Rank = 7 Crowding Distance = 0.5392259062183296,\n",
       " PNL = 152.35 Max. Drawdown = 25.93 Parameters = {'slow_ma': 189, 'fast_ma': 2} Rank = 7 Crowding Distance = 0.9998083255426963,\n",
       " PNL = 156.96 Max. Drawdown = 30.42 Parameters = {'slow_ma': 125, 'fast_ma': 137} Rank = 7 Crowding Distance = 0.9473997692432437,\n",
       " PNL = 157.41 Max. Drawdown = 37.03 Parameters = {'slow_ma': 64, 'fast_ma': 30} Rank = 7 Crowding Distance = inf,\n",
       " PNL = 156.74 Max. Drawdown = 41.6 Parameters = {'slow_ma': 65, 'fast_ma': 25} Rank = 8 Crowding Distance = inf]"
      ]
     },
     "execution_count": 8,
     "metadata": {},
     "output_type": "execute_result"
    }
   ],
   "source": [
    "results"
   ]
  },
  {
   "cell_type": "markdown",
   "id": "bcc353e8-3d69-47a6-a39b-f1f14d4ef409",
   "metadata": {},
   "source": [
    "## Show data"
   ]
  },
  {
   "cell_type": "code",
   "execution_count": 9,
   "id": "8e6b05b0-8c0d-4aa1-b4f4-ce4e55940fbb",
   "metadata": {},
   "outputs": [],
   "source": [
    "from plotly import graph_objects as go\n",
    "import plotly.express as px\n",
    "import pandas as pd"
   ]
  },
  {
   "cell_type": "code",
   "execution_count": 10,
   "id": "aa843879-4792-4136-9328-5059f4d57b10",
   "metadata": {},
   "outputs": [
    {
     "data": {
      "text/html": [
       "<div>\n",
       "<style scoped>\n",
       "    .dataframe tbody tr th:only-of-type {\n",
       "        vertical-align: middle;\n",
       "    }\n",
       "\n",
       "    .dataframe tbody tr th {\n",
       "        vertical-align: top;\n",
       "    }\n",
       "\n",
       "    .dataframe thead th {\n",
       "        text-align: right;\n",
       "    }\n",
       "</style>\n",
       "<table border=\"1\" class=\"dataframe\">\n",
       "  <thead>\n",
       "    <tr style=\"text-align: right;\">\n",
       "      <th></th>\n",
       "      <th>pnl</th>\n",
       "      <th>max_dd</th>\n",
       "      <th>parameters</th>\n",
       "      <th>dominated_by</th>\n",
       "      <th>dominates</th>\n",
       "      <th>rank</th>\n",
       "      <th>crowding_distance</th>\n",
       "    </tr>\n",
       "  </thead>\n",
       "  <tbody>\n",
       "    <tr>\n",
       "      <th>0</th>\n",
       "      <td>145.028996</td>\n",
       "      <td>16.116999</td>\n",
       "      <td>{'slow_ma': 194, 'fast_ma': 5}</td>\n",
       "      <td>0</td>\n",
       "      <td>[5, 12, 24, 25, 33, 43, 52, 60, 61, 62, 63, 64...</td>\n",
       "      <td>0</td>\n",
       "      <td>inf</td>\n",
       "    </tr>\n",
       "    <tr>\n",
       "      <th>1</th>\n",
       "      <td>167.700371</td>\n",
       "      <td>16.635263</td>\n",
       "      <td>{'slow_ma': 192, 'fast_ma': 4}</td>\n",
       "      <td>0</td>\n",
       "      <td>[6, 7, 8, 13, 14, 15, 16, 17, 20, 21, 22, 24, ...</td>\n",
       "      <td>0</td>\n",
       "      <td>0.829833</td>\n",
       "    </tr>\n",
       "    <tr>\n",
       "      <th>2</th>\n",
       "      <td>170.729234</td>\n",
       "      <td>20.450416</td>\n",
       "      <td>{'slow_ma': 196, 'fast_ma': 3}</td>\n",
       "      <td>0</td>\n",
       "      <td>[9, 10, 17, 18, 23, 30, 31, 32, 39, 40, 41, 42...</td>\n",
       "      <td>0</td>\n",
       "      <td>0.535952</td>\n",
       "    </tr>\n",
       "    <tr>\n",
       "      <th>3</th>\n",
       "      <td>170.738240</td>\n",
       "      <td>30.384299</td>\n",
       "      <td>{'slow_ma': 193, 'fast_ma': 2}</td>\n",
       "      <td>0</td>\n",
       "      <td>[18, 23, 32, 42, 51, 57, 58, 59, 60, 61, 63, 6...</td>\n",
       "      <td>0</td>\n",
       "      <td>1.170167</td>\n",
       "    </tr>\n",
       "    <tr>\n",
       "      <th>4</th>\n",
       "      <td>182.466321</td>\n",
       "      <td>46.347496</td>\n",
       "      <td>{'slow_ma': 51, 'fast_ma': 46}</td>\n",
       "      <td>0</td>\n",
       "      <td>[11, 19, 32, 60, 63, 68, 73, 74, 77, 78, 79, 8...</td>\n",
       "      <td>0</td>\n",
       "      <td>inf</td>\n",
       "    </tr>\n",
       "  </tbody>\n",
       "</table>\n",
       "</div>"
      ],
      "text/plain": [
       "          pnl     max_dd                      parameters  dominated_by                                          dominates rank  crowding_distance\n",
       "0  145.028996  16.116999  {'slow_ma': 194, 'fast_ma': 5}             0  [5, 12, 24, 25, 33, 43, 52, 60, 61, 62, 63, 64...    0                inf\n",
       "1  167.700371  16.635263  {'slow_ma': 192, 'fast_ma': 4}             0  [6, 7, 8, 13, 14, 15, 16, 17, 20, 21, 22, 24, ...    0           0.829833\n",
       "2  170.729234  20.450416  {'slow_ma': 196, 'fast_ma': 3}             0  [9, 10, 17, 18, 23, 30, 31, 32, 39, 40, 41, 42...    0           0.535952\n",
       "3  170.738240  30.384299  {'slow_ma': 193, 'fast_ma': 2}             0  [18, 23, 32, 42, 51, 57, 58, 59, 60, 61, 63, 6...    0           1.170167\n",
       "4  182.466321  46.347496  {'slow_ma': 51, 'fast_ma': 46}             0  [11, 19, 32, 60, 63, 68, 73, 74, 77, 78, 79, 8...    0                inf"
      ]
     },
     "execution_count": 10,
     "metadata": {},
     "output_type": "execute_result"
    }
   ],
   "source": [
    "df = pd.DataFrame.from_records([r.__dict__ for r in results])\n",
    "df['rank'] = df['rank'].astype(str)\n",
    "df.head()"
   ]
  },
  {
   "cell_type": "code",
   "execution_count": 11,
   "id": "af2a9858-118d-4437-a8da-a4db97c8f4bd",
   "metadata": {},
   "outputs": [
    {
     "data": {
      "application/vnd.plotly.v1+json": {
       "config": {
        "plotlyServerURL": "https://plot.ly"
       },
       "data": [
        {
         "hovertemplate": "rank=0<br>max_dd=%{x}<br>pnl=%{y}<extra></extra>",
         "legendgroup": "0",
         "marker": {
          "color": "#636efa",
          "symbol": "circle"
         },
         "mode": "markers",
         "name": "0",
         "orientation": "v",
         "showlegend": true,
         "type": "scatter",
         "x": [
          16.116998990179262,
          16.635262809890094,
          20.450415806036943,
          30.384299059288743,
          46.347495791885976
         ],
         "xaxis": "x",
         "y": [
          145.02899588108653,
          167.7003705524884,
          170.72923391049224,
          170.7382395717059,
          182.46632126917544
         ],
         "yaxis": "y"
        },
        {
         "hovertemplate": "rank=1<br>max_dd=%{x}<br>pnl=%{y}<extra></extra>",
         "legendgroup": "1",
         "marker": {
          "color": "#EF553B",
          "symbol": "circle"
         },
         "mode": "markers",
         "name": "1",
         "orientation": "v",
         "showlegend": true,
         "type": "scatter",
         "x": [
          16.234623444141178,
          17.004953511875016,
          17.023743211990137,
          18.07333372127391,
          26.43613243096428,
          27.047287710163687,
          60.28667552412037
         ],
         "xaxis": "x",
         "y": [
          138.63133594627652,
          163.93013947484152,
          164.90540705815712,
          164.9909554340195,
          168.38801115214932,
          170.71030337638337,
          174.9762384412207
         ],
         "yaxis": "y"
        },
        {
         "hovertemplate": "rank=2<br>max_dd=%{x}<br>pnl=%{y}<extra></extra>",
         "legendgroup": "2",
         "marker": {
          "color": "#00cc96",
          "symbol": "circle"
         },
         "mode": "markers",
         "name": "2",
         "orientation": "v",
         "showlegend": true,
         "type": "scatter",
         "x": [
          16.334642977906537,
          17.023743211990137,
          17.25223263561577,
          18.043706834123043,
          18.686801650269764,
          22.313210396638777,
          30.900548570448972,
          61.760501748522785
         ],
         "xaxis": "x",
         "y": [
          137.11076182267212,
          158.59317147040923,
          158.68735218710557,
          160.67732374347696,
          163.27563583134008,
          164.94663156711883,
          170.5959914846073,
          171.40458722245683
         ],
         "yaxis": "y"
        },
        {
         "hovertemplate": "rank=3<br>max_dd=%{x}<br>pnl=%{y}<extra></extra>",
         "legendgroup": "3",
         "marker": {
          "color": "#ab63fa",
          "symbol": "circle"
         },
         "mode": "markers",
         "name": "3",
         "orientation": "v",
         "showlegend": true,
         "type": "scatter",
         "visible": "legendonly",
         "x": [
          17.023743211990137,
          17.89753086644393,
          19.034073735582133,
          34.238821453198824
         ],
         "xaxis": "x",
         "y": [
          154.1717667201587,
          157.30627734015158,
          163.11047554398706,
          170.17002997617965
         ],
         "yaxis": "y"
        },
        {
         "hovertemplate": "rank=4<br>max_dd=%{x}<br>pnl=%{y}<extra></extra>",
         "legendgroup": "4",
         "marker": {
          "color": "#FFA15A",
          "symbol": "circle"
         },
         "mode": "markers",
         "name": "4",
         "orientation": "v",
         "showlegend": true,
         "type": "scatter",
         "visible": "legendonly",
         "x": [
          17.22902993906709,
          17.316621907506956,
          17.391240727742975,
          17.51567028859572,
          17.795346233701878,
          19.0500850034784,
          20.80150643075477,
          20.92989269129425,
          51.96285392397294
         ],
         "xaxis": "x",
         "y": [
          133.772924198339,
          138.0586939268456,
          145.8424245415973,
          149.23939459014204,
          154.1098427439074,
          157.16009007958826,
          157.4456003201339,
          162.5851862912206,
          163.25057608411143
         ],
         "yaxis": "y"
        },
        {
         "hovertemplate": "rank=5<br>max_dd=%{x}<br>pnl=%{y}<extra></extra>",
         "legendgroup": "5",
         "marker": {
          "color": "#19d3f3",
          "symbol": "circle"
         },
         "mode": "markers",
         "name": "5",
         "orientation": "v",
         "showlegend": true,
         "type": "scatter",
         "visible": "legendonly",
         "x": [
          17.391240727742975,
          17.74138854123269,
          17.760146679966674,
          18.04239946972376,
          19.19897821091409,
          20.377624179644798,
          20.86664132620239,
          21.57967468834851,
          28.972260873940684,
          30.4864177244953
         ],
         "xaxis": "x",
         "y": [
          138.93725763903734,
          146.61659419299582,
          147.15168193507515,
          150.650072069322,
          151.25889754183905,
          153.8717586171239,
          157.34925772268338,
          159.66033856745352,
          160.06421909436742,
          161.06992904257942
         ],
         "yaxis": "y"
        },
        {
         "hovertemplate": "rank=6<br>max_dd=%{x}<br>pnl=%{y}<extra></extra>",
         "legendgroup": "6",
         "marker": {
          "color": "#FF6692",
          "symbol": "circle"
         },
         "mode": "markers",
         "name": "6",
         "orientation": "v",
         "showlegend": true,
         "type": "scatter",
         "visible": "legendonly",
         "x": [
          17.747825737849993,
          17.93324046580397,
          18.372292065829903,
          18.52457797562826,
          19.407172796214752,
          22.306805537411908,
          22.528492074926454,
          26.816479695298547,
          31.49338234539798
         ],
         "xaxis": "x",
         "y": [
          143.88454457921677,
          145.44223475531635,
          145.92627969048235,
          150.34537567423249,
          151.1663073786419,
          154.4198836391127,
          156.43131722450013,
          157.9045673615926,
          158.9764022453154
         ],
         "yaxis": "y"
        },
        {
         "hovertemplate": "rank=7<br>max_dd=%{x}<br>pnl=%{y}<extra></extra>",
         "legendgroup": "7",
         "marker": {
          "color": "#B6E880",
          "symbol": "circle"
         },
         "mode": "markers",
         "name": "7",
         "orientation": "v",
         "showlegend": true,
         "type": "scatter",
         "visible": "legendonly",
         "x": [
          18.141861194701363,
          18.551569458555583,
          18.664221508553425,
          19.795235936722207,
          25.93319165157915,
          30.42351472796277,
          37.03093772454142
         ],
         "xaxis": "x",
         "y": [
          143.35759096557337,
          148.27965504257483,
          150.18333709515895,
          150.82020063087847,
          152.35312145410163,
          156.96326148504446,
          157.4104257298678
         ],
         "yaxis": "y"
        },
        {
         "hovertemplate": "rank=8<br>max_dd=%{x}<br>pnl=%{y}<extra></extra>",
         "legendgroup": "8",
         "marker": {
          "color": "#FF97FF",
          "symbol": "circle"
         },
         "mode": "markers",
         "name": "8",
         "orientation": "v",
         "showlegend": true,
         "type": "scatter",
         "visible": "legendonly",
         "x": [
          41.60089795004862
         ],
         "xaxis": "x",
         "y": [
          156.74099132991265
         ],
         "yaxis": "y"
        }
       ],
       "layout": {
        "autosize": true,
        "legend": {
         "title": {
          "text": "rank"
         },
         "tracegroupgap": 0
        },
        "margin": {
         "t": 60
        },
        "template": {
         "data": {
          "bar": [
           {
            "error_x": {
             "color": "#2a3f5f"
            },
            "error_y": {
             "color": "#2a3f5f"
            },
            "marker": {
             "line": {
              "color": "#E5ECF6",
              "width": 0.5
             },
             "pattern": {
              "fillmode": "overlay",
              "size": 10,
              "solidity": 0.2
             }
            },
            "type": "bar"
           }
          ],
          "barpolar": [
           {
            "marker": {
             "line": {
              "color": "#E5ECF6",
              "width": 0.5
             },
             "pattern": {
              "fillmode": "overlay",
              "size": 10,
              "solidity": 0.2
             }
            },
            "type": "barpolar"
           }
          ],
          "carpet": [
           {
            "aaxis": {
             "endlinecolor": "#2a3f5f",
             "gridcolor": "white",
             "linecolor": "white",
             "minorgridcolor": "white",
             "startlinecolor": "#2a3f5f"
            },
            "baxis": {
             "endlinecolor": "#2a3f5f",
             "gridcolor": "white",
             "linecolor": "white",
             "minorgridcolor": "white",
             "startlinecolor": "#2a3f5f"
            },
            "type": "carpet"
           }
          ],
          "choropleth": [
           {
            "colorbar": {
             "outlinewidth": 0,
             "ticks": ""
            },
            "type": "choropleth"
           }
          ],
          "contour": [
           {
            "colorbar": {
             "outlinewidth": 0,
             "ticks": ""
            },
            "colorscale": [
             [
              0,
              "#0d0887"
             ],
             [
              0.1111111111111111,
              "#46039f"
             ],
             [
              0.2222222222222222,
              "#7201a8"
             ],
             [
              0.3333333333333333,
              "#9c179e"
             ],
             [
              0.4444444444444444,
              "#bd3786"
             ],
             [
              0.5555555555555556,
              "#d8576b"
             ],
             [
              0.6666666666666666,
              "#ed7953"
             ],
             [
              0.7777777777777778,
              "#fb9f3a"
             ],
             [
              0.8888888888888888,
              "#fdca26"
             ],
             [
              1,
              "#f0f921"
             ]
            ],
            "type": "contour"
           }
          ],
          "contourcarpet": [
           {
            "colorbar": {
             "outlinewidth": 0,
             "ticks": ""
            },
            "type": "contourcarpet"
           }
          ],
          "heatmap": [
           {
            "colorbar": {
             "outlinewidth": 0,
             "ticks": ""
            },
            "colorscale": [
             [
              0,
              "#0d0887"
             ],
             [
              0.1111111111111111,
              "#46039f"
             ],
             [
              0.2222222222222222,
              "#7201a8"
             ],
             [
              0.3333333333333333,
              "#9c179e"
             ],
             [
              0.4444444444444444,
              "#bd3786"
             ],
             [
              0.5555555555555556,
              "#d8576b"
             ],
             [
              0.6666666666666666,
              "#ed7953"
             ],
             [
              0.7777777777777778,
              "#fb9f3a"
             ],
             [
              0.8888888888888888,
              "#fdca26"
             ],
             [
              1,
              "#f0f921"
             ]
            ],
            "type": "heatmap"
           }
          ],
          "heatmapgl": [
           {
            "colorbar": {
             "outlinewidth": 0,
             "ticks": ""
            },
            "colorscale": [
             [
              0,
              "#0d0887"
             ],
             [
              0.1111111111111111,
              "#46039f"
             ],
             [
              0.2222222222222222,
              "#7201a8"
             ],
             [
              0.3333333333333333,
              "#9c179e"
             ],
             [
              0.4444444444444444,
              "#bd3786"
             ],
             [
              0.5555555555555556,
              "#d8576b"
             ],
             [
              0.6666666666666666,
              "#ed7953"
             ],
             [
              0.7777777777777778,
              "#fb9f3a"
             ],
             [
              0.8888888888888888,
              "#fdca26"
             ],
             [
              1,
              "#f0f921"
             ]
            ],
            "type": "heatmapgl"
           }
          ],
          "histogram": [
           {
            "marker": {
             "pattern": {
              "fillmode": "overlay",
              "size": 10,
              "solidity": 0.2
             }
            },
            "type": "histogram"
           }
          ],
          "histogram2d": [
           {
            "colorbar": {
             "outlinewidth": 0,
             "ticks": ""
            },
            "colorscale": [
             [
              0,
              "#0d0887"
             ],
             [
              0.1111111111111111,
              "#46039f"
             ],
             [
              0.2222222222222222,
              "#7201a8"
             ],
             [
              0.3333333333333333,
              "#9c179e"
             ],
             [
              0.4444444444444444,
              "#bd3786"
             ],
             [
              0.5555555555555556,
              "#d8576b"
             ],
             [
              0.6666666666666666,
              "#ed7953"
             ],
             [
              0.7777777777777778,
              "#fb9f3a"
             ],
             [
              0.8888888888888888,
              "#fdca26"
             ],
             [
              1,
              "#f0f921"
             ]
            ],
            "type": "histogram2d"
           }
          ],
          "histogram2dcontour": [
           {
            "colorbar": {
             "outlinewidth": 0,
             "ticks": ""
            },
            "colorscale": [
             [
              0,
              "#0d0887"
             ],
             [
              0.1111111111111111,
              "#46039f"
             ],
             [
              0.2222222222222222,
              "#7201a8"
             ],
             [
              0.3333333333333333,
              "#9c179e"
             ],
             [
              0.4444444444444444,
              "#bd3786"
             ],
             [
              0.5555555555555556,
              "#d8576b"
             ],
             [
              0.6666666666666666,
              "#ed7953"
             ],
             [
              0.7777777777777778,
              "#fb9f3a"
             ],
             [
              0.8888888888888888,
              "#fdca26"
             ],
             [
              1,
              "#f0f921"
             ]
            ],
            "type": "histogram2dcontour"
           }
          ],
          "mesh3d": [
           {
            "colorbar": {
             "outlinewidth": 0,
             "ticks": ""
            },
            "type": "mesh3d"
           }
          ],
          "parcoords": [
           {
            "line": {
             "colorbar": {
              "outlinewidth": 0,
              "ticks": ""
             }
            },
            "type": "parcoords"
           }
          ],
          "pie": [
           {
            "automargin": true,
            "type": "pie"
           }
          ],
          "scatter": [
           {
            "marker": {
             "colorbar": {
              "outlinewidth": 0,
              "ticks": ""
             }
            },
            "type": "scatter"
           }
          ],
          "scatter3d": [
           {
            "line": {
             "colorbar": {
              "outlinewidth": 0,
              "ticks": ""
             }
            },
            "marker": {
             "colorbar": {
              "outlinewidth": 0,
              "ticks": ""
             }
            },
            "type": "scatter3d"
           }
          ],
          "scattercarpet": [
           {
            "marker": {
             "colorbar": {
              "outlinewidth": 0,
              "ticks": ""
             }
            },
            "type": "scattercarpet"
           }
          ],
          "scattergeo": [
           {
            "marker": {
             "colorbar": {
              "outlinewidth": 0,
              "ticks": ""
             }
            },
            "type": "scattergeo"
           }
          ],
          "scattergl": [
           {
            "marker": {
             "colorbar": {
              "outlinewidth": 0,
              "ticks": ""
             }
            },
            "type": "scattergl"
           }
          ],
          "scattermapbox": [
           {
            "marker": {
             "colorbar": {
              "outlinewidth": 0,
              "ticks": ""
             }
            },
            "type": "scattermapbox"
           }
          ],
          "scatterpolar": [
           {
            "marker": {
             "colorbar": {
              "outlinewidth": 0,
              "ticks": ""
             }
            },
            "type": "scatterpolar"
           }
          ],
          "scatterpolargl": [
           {
            "marker": {
             "colorbar": {
              "outlinewidth": 0,
              "ticks": ""
             }
            },
            "type": "scatterpolargl"
           }
          ],
          "scatterternary": [
           {
            "marker": {
             "colorbar": {
              "outlinewidth": 0,
              "ticks": ""
             }
            },
            "type": "scatterternary"
           }
          ],
          "surface": [
           {
            "colorbar": {
             "outlinewidth": 0,
             "ticks": ""
            },
            "colorscale": [
             [
              0,
              "#0d0887"
             ],
             [
              0.1111111111111111,
              "#46039f"
             ],
             [
              0.2222222222222222,
              "#7201a8"
             ],
             [
              0.3333333333333333,
              "#9c179e"
             ],
             [
              0.4444444444444444,
              "#bd3786"
             ],
             [
              0.5555555555555556,
              "#d8576b"
             ],
             [
              0.6666666666666666,
              "#ed7953"
             ],
             [
              0.7777777777777778,
              "#fb9f3a"
             ],
             [
              0.8888888888888888,
              "#fdca26"
             ],
             [
              1,
              "#f0f921"
             ]
            ],
            "type": "surface"
           }
          ],
          "table": [
           {
            "cells": {
             "fill": {
              "color": "#EBF0F8"
             },
             "line": {
              "color": "white"
             }
            },
            "header": {
             "fill": {
              "color": "#C8D4E3"
             },
             "line": {
              "color": "white"
             }
            },
            "type": "table"
           }
          ]
         },
         "layout": {
          "annotationdefaults": {
           "arrowcolor": "#2a3f5f",
           "arrowhead": 0,
           "arrowwidth": 1
          },
          "autotypenumbers": "strict",
          "coloraxis": {
           "colorbar": {
            "outlinewidth": 0,
            "ticks": ""
           }
          },
          "colorscale": {
           "diverging": [
            [
             0,
             "#8e0152"
            ],
            [
             0.1,
             "#c51b7d"
            ],
            [
             0.2,
             "#de77ae"
            ],
            [
             0.3,
             "#f1b6da"
            ],
            [
             0.4,
             "#fde0ef"
            ],
            [
             0.5,
             "#f7f7f7"
            ],
            [
             0.6,
             "#e6f5d0"
            ],
            [
             0.7,
             "#b8e186"
            ],
            [
             0.8,
             "#7fbc41"
            ],
            [
             0.9,
             "#4d9221"
            ],
            [
             1,
             "#276419"
            ]
           ],
           "sequential": [
            [
             0,
             "#0d0887"
            ],
            [
             0.1111111111111111,
             "#46039f"
            ],
            [
             0.2222222222222222,
             "#7201a8"
            ],
            [
             0.3333333333333333,
             "#9c179e"
            ],
            [
             0.4444444444444444,
             "#bd3786"
            ],
            [
             0.5555555555555556,
             "#d8576b"
            ],
            [
             0.6666666666666666,
             "#ed7953"
            ],
            [
             0.7777777777777778,
             "#fb9f3a"
            ],
            [
             0.8888888888888888,
             "#fdca26"
            ],
            [
             1,
             "#f0f921"
            ]
           ],
           "sequentialminus": [
            [
             0,
             "#0d0887"
            ],
            [
             0.1111111111111111,
             "#46039f"
            ],
            [
             0.2222222222222222,
             "#7201a8"
            ],
            [
             0.3333333333333333,
             "#9c179e"
            ],
            [
             0.4444444444444444,
             "#bd3786"
            ],
            [
             0.5555555555555556,
             "#d8576b"
            ],
            [
             0.6666666666666666,
             "#ed7953"
            ],
            [
             0.7777777777777778,
             "#fb9f3a"
            ],
            [
             0.8888888888888888,
             "#fdca26"
            ],
            [
             1,
             "#f0f921"
            ]
           ]
          },
          "colorway": [
           "#636efa",
           "#EF553B",
           "#00cc96",
           "#ab63fa",
           "#FFA15A",
           "#19d3f3",
           "#FF6692",
           "#B6E880",
           "#FF97FF",
           "#FECB52"
          ],
          "font": {
           "color": "#2a3f5f"
          },
          "geo": {
           "bgcolor": "white",
           "lakecolor": "white",
           "landcolor": "#E5ECF6",
           "showlakes": true,
           "showland": true,
           "subunitcolor": "white"
          },
          "hoverlabel": {
           "align": "left"
          },
          "hovermode": "closest",
          "mapbox": {
           "style": "light"
          },
          "paper_bgcolor": "white",
          "plot_bgcolor": "#E5ECF6",
          "polar": {
           "angularaxis": {
            "gridcolor": "white",
            "linecolor": "white",
            "ticks": ""
           },
           "bgcolor": "#E5ECF6",
           "radialaxis": {
            "gridcolor": "white",
            "linecolor": "white",
            "ticks": ""
           }
          },
          "scene": {
           "xaxis": {
            "backgroundcolor": "#E5ECF6",
            "gridcolor": "white",
            "gridwidth": 2,
            "linecolor": "white",
            "showbackground": true,
            "ticks": "",
            "zerolinecolor": "white"
           },
           "yaxis": {
            "backgroundcolor": "#E5ECF6",
            "gridcolor": "white",
            "gridwidth": 2,
            "linecolor": "white",
            "showbackground": true,
            "ticks": "",
            "zerolinecolor": "white"
           },
           "zaxis": {
            "backgroundcolor": "#E5ECF6",
            "gridcolor": "white",
            "gridwidth": 2,
            "linecolor": "white",
            "showbackground": true,
            "ticks": "",
            "zerolinecolor": "white"
           }
          },
          "shapedefaults": {
           "line": {
            "color": "#2a3f5f"
           }
          },
          "ternary": {
           "aaxis": {
            "gridcolor": "white",
            "linecolor": "white",
            "ticks": ""
           },
           "baxis": {
            "gridcolor": "white",
            "linecolor": "white",
            "ticks": ""
           },
           "bgcolor": "#E5ECF6",
           "caxis": {
            "gridcolor": "white",
            "linecolor": "white",
            "ticks": ""
           }
          },
          "title": {
           "x": 0.05
          },
          "xaxis": {
           "automargin": true,
           "gridcolor": "white",
           "linecolor": "white",
           "ticks": "",
           "title": {
            "standoff": 15
           },
           "zerolinecolor": "white",
           "zerolinewidth": 2
          },
          "yaxis": {
           "automargin": true,
           "gridcolor": "white",
           "linecolor": "white",
           "ticks": "",
           "title": {
            "standoff": 15
           },
           "zerolinecolor": "white",
           "zerolinewidth": 2
          }
         }
        },
        "xaxis": {
         "anchor": "y",
         "autorange": true,
         "domain": [
          0,
          1
         ],
         "range": [
          13.403326429329105,
          64.47417430937294
         ],
         "title": {
          "text": "max_dd"
         },
         "type": "linear"
        },
        "yaxis": {
         "anchor": "x",
         "autorange": true,
         "domain": [
          0,
          1
         ],
         "range": [
          133.59897966080376,
          185.9781034310438
         ],
         "title": {
          "text": "pnl"
         },
         "type": "linear"
        }
       }
      },
      "image/png": "[encoded data removed]",
      "text/html": [
       "<div>                            <div id=\"c19abda3-f969-40cc-a377-1b36cc76421f\" class=\"plotly-graph-div\" style=\"height:525px; width:100%;\"></div>            <script type=\"text/javascript\">                require([\"plotly\"], function(Plotly) {                    window.PLOTLYENV=window.PLOTLYENV || {};                                    if (document.getElementById(\"c19abda3-f969-40cc-a377-1b36cc76421f\")) {                    Plotly.newPlot(                        \"c19abda3-f969-40cc-a377-1b36cc76421f\",                        [{\"hovertemplate\":\"rank=0<br>max_dd=%{x}<br>pnl=%{y}<extra></extra>\",\"legendgroup\":\"0\",\"marker\":{\"color\":\"#636efa\",\"symbol\":\"circle\"},\"mode\":\"markers\",\"name\":\"0\",\"orientation\":\"v\",\"showlegend\":true,\"x\":[16.116998990179262,16.635262809890094,20.450415806036943,30.384299059288743,46.347495791885976],\"xaxis\":\"x\",\"y\":[145.02899588108653,167.7003705524884,170.72923391049224,170.7382395717059,182.46632126917544],\"yaxis\":\"y\",\"type\":\"scatter\"},{\"hovertemplate\":\"rank=1<br>max_dd=%{x}<br>pnl=%{y}<extra></extra>\",\"legendgroup\":\"1\",\"marker\":{\"color\":\"#EF553B\",\"symbol\":\"circle\"},\"mode\":\"markers\",\"name\":\"1\",\"orientation\":\"v\",\"showlegend\":true,\"x\":[16.234623444141178,17.004953511875016,17.023743211990137,18.07333372127391,26.43613243096428,27.047287710163687,60.28667552412037],\"xaxis\":\"x\",\"y\":[138.63133594627652,163.93013947484152,164.90540705815712,164.9909554340195,168.38801115214932,170.71030337638337,174.9762384412207],\"yaxis\":\"y\",\"type\":\"scatter\"},{\"hovertemplate\":\"rank=2<br>max_dd=%{x}<br>pnl=%{y}<extra></extra>\",\"legendgroup\":\"2\",\"marker\":{\"color\":\"#00cc96\",\"symbol\":\"circle\"},\"mode\":\"markers\",\"name\":\"2\",\"orientation\":\"v\",\"showlegend\":true,\"x\":[16.334642977906537,17.023743211990137,17.25223263561577,18.043706834123043,18.686801650269764,22.313210396638777,30.900548570448972,61.760501748522785],\"xaxis\":\"x\",\"y\":[137.11076182267212,158.59317147040923,158.68735218710557,160.67732374347696,163.27563583134008,164.94663156711883,170.5959914846073,171.40458722245683],\"yaxis\":\"y\",\"type\":\"scatter\"},{\"hovertemplate\":\"rank=3<br>max_dd=%{x}<br>pnl=%{y}<extra></extra>\",\"legendgroup\":\"3\",\"marker\":{\"color\":\"#ab63fa\",\"symbol\":\"circle\"},\"mode\":\"markers\",\"name\":\"3\",\"orientation\":\"v\",\"showlegend\":true,\"x\":[17.023743211990137,17.89753086644393,19.034073735582133,34.238821453198824],\"xaxis\":\"x\",\"y\":[154.1717667201587,157.30627734015158,163.11047554398706,170.17002997617965],\"yaxis\":\"y\",\"type\":\"scatter\"},{\"hovertemplate\":\"rank=4<br>max_dd=%{x}<br>pnl=%{y}<extra></extra>\",\"legendgroup\":\"4\",\"marker\":{\"color\":\"#FFA15A\",\"symbol\":\"circle\"},\"mode\":\"markers\",\"name\":\"4\",\"orientation\":\"v\",\"showlegend\":true,\"x\":[17.22902993906709,17.316621907506956,17.391240727742975,17.51567028859572,17.795346233701878,19.0500850034784,20.80150643075477,20.92989269129425,51.96285392397294],\"xaxis\":\"x\",\"y\":[133.772924198339,138.0586939268456,145.8424245415973,149.23939459014204,154.1098427439074,157.16009007958826,157.4456003201339,162.5851862912206,163.25057608411143],\"yaxis\":\"y\",\"type\":\"scatter\"},{\"hovertemplate\":\"rank=5<br>max_dd=%{x}<br>pnl=%{y}<extra></extra>\",\"legendgroup\":\"5\",\"marker\":{\"color\":\"#19d3f3\",\"symbol\":\"circle\"},\"mode\":\"markers\",\"name\":\"5\",\"orientation\":\"v\",\"showlegend\":true,\"x\":[17.391240727742975,17.74138854123269,17.760146679966674,18.04239946972376,19.19897821091409,20.377624179644798,20.86664132620239,21.57967468834851,28.972260873940684,30.4864177244953],\"xaxis\":\"x\",\"y\":[138.93725763903734,146.61659419299582,147.15168193507515,150.650072069322,151.25889754183905,153.8717586171239,157.34925772268338,159.66033856745352,160.06421909436742,161.06992904257942],\"yaxis\":\"y\",\"type\":\"scatter\"},{\"hovertemplate\":\"rank=6<br>max_dd=%{x}<br>pnl=%{y}<extra></extra>\",\"legendgroup\":\"6\",\"marker\":{\"color\":\"#FF6692\",\"symbol\":\"circle\"},\"mode\":\"markers\",\"name\":\"6\",\"orientation\":\"v\",\"showlegend\":true,\"x\":[17.747825737849993,17.93324046580397,18.372292065829903,18.52457797562826,19.407172796214752,22.306805537411908,22.528492074926454,26.816479695298547,31.49338234539798],\"xaxis\":\"x\",\"y\":[143.88454457921677,145.44223475531635,145.92627969048235,150.34537567423249,151.1663073786419,154.4198836391127,156.43131722450013,157.9045673615926,158.9764022453154],\"yaxis\":\"y\",\"type\":\"scatter\"},{\"hovertemplate\":\"rank=7<br>max_dd=%{x}<br>pnl=%{y}<extra></extra>\",\"legendgroup\":\"7\",\"marker\":{\"color\":\"#B6E880\",\"symbol\":\"circle\"},\"mode\":\"markers\",\"name\":\"7\",\"orientation\":\"v\",\"showlegend\":true,\"x\":[18.141861194701363,18.551569458555583,18.664221508553425,19.795235936722207,25.93319165157915,30.42351472796277,37.03093772454142],\"xaxis\":\"x\",\"y\":[143.35759096557337,148.27965504257483,150.18333709515895,150.82020063087847,152.35312145410163,156.96326148504446,157.4104257298678],\"yaxis\":\"y\",\"type\":\"scatter\"},{\"hovertemplate\":\"rank=8<br>max_dd=%{x}<br>pnl=%{y}<extra></extra>\",\"legendgroup\":\"8\",\"marker\":{\"color\":\"#FF97FF\",\"symbol\":\"circle\"},\"mode\":\"markers\",\"name\":\"8\",\"orientation\":\"v\",\"showlegend\":true,\"x\":[41.60089795004862],\"xaxis\":\"x\",\"y\":[156.74099132991265],\"yaxis\":\"y\",\"type\":\"scatter\"}],                        {\"template\":{\"data\":{\"bar\":[{\"error_x\":{\"color\":\"#2a3f5f\"},\"error_y\":{\"color\":\"#2a3f5f\"},\"marker\":{\"line\":{\"color\":\"#E5ECF6\",\"width\":0.5},\"pattern\":{\"fillmode\":\"overlay\",\"size\":10,\"solidity\":0.2}},\"type\":\"bar\"}],\"barpolar\":[{\"marker\":{\"line\":{\"color\":\"#E5ECF6\",\"width\":0.5},\"pattern\":{\"fillmode\":\"overlay\",\"size\":10,\"solidity\":0.2}},\"type\":\"barpolar\"}],\"carpet\":[{\"aaxis\":{\"endlinecolor\":\"#2a3f5f\",\"gridcolor\":\"white\",\"linecolor\":\"white\",\"minorgridcolor\":\"white\",\"startlinecolor\":\"#2a3f5f\"},\"baxis\":{\"endlinecolor\":\"#2a3f5f\",\"gridcolor\":\"white\",\"linecolor\":\"white\",\"minorgridcolor\":\"white\",\"startlinecolor\":\"#2a3f5f\"},\"type\":\"carpet\"}],\"choropleth\":[{\"colorbar\":{\"outlinewidth\":0,\"ticks\":\"\"},\"type\":\"choropleth\"}],\"contour\":[{\"colorbar\":{\"outlinewidth\":0,\"ticks\":\"\"},\"colorscale\":[[0.0,\"#0d0887\"],[0.1111111111111111,\"#46039f\"],[0.2222222222222222,\"#7201a8\"],[0.3333333333333333,\"#9c179e\"],[0.4444444444444444,\"#bd3786\"],[0.5555555555555556,\"#d8576b\"],[0.6666666666666666,\"#ed7953\"],[0.7777777777777778,\"#fb9f3a\"],[0.8888888888888888,\"#fdca26\"],[1.0,\"#f0f921\"]],\"type\":\"contour\"}],\"contourcarpet\":[{\"colorbar\":{\"outlinewidth\":0,\"ticks\":\"\"},\"type\":\"contourcarpet\"}],\"heatmap\":[{\"colorbar\":{\"outlinewidth\":0,\"ticks\":\"\"},\"colorscale\":[[0.0,\"#0d0887\"],[0.1111111111111111,\"#46039f\"],[0.2222222222222222,\"#7201a8\"],[0.3333333333333333,\"#9c179e\"],[0.4444444444444444,\"#bd3786\"],[0.5555555555555556,\"#d8576b\"],[0.6666666666666666,\"#ed7953\"],[0.7777777777777778,\"#fb9f3a\"],[0.8888888888888888,\"#fdca26\"],[1.0,\"#f0f921\"]],\"type\":\"heatmap\"}],\"heatmapgl\":[{\"colorbar\":{\"outlinewidth\":0,\"ticks\":\"\"},\"colorscale\":[[0.0,\"#0d0887\"],[0.1111111111111111,\"#46039f\"],[0.2222222222222222,\"#7201a8\"],[0.3333333333333333,\"#9c179e\"],[0.4444444444444444,\"#bd3786\"],[0.5555555555555556,\"#d8576b\"],[0.6666666666666666,\"#ed7953\"],[0.7777777777777778,\"#fb9f3a\"],[0.8888888888888888,\"#fdca26\"],[1.0,\"#f0f921\"]],\"type\":\"heatmapgl\"}],\"histogram\":[{\"marker\":{\"pattern\":{\"fillmode\":\"overlay\",\"size\":10,\"solidity\":0.2}},\"type\":\"histogram\"}],\"histogram2d\":[{\"colorbar\":{\"outlinewidth\":0,\"ticks\":\"\"},\"colorscale\":[[0.0,\"#0d0887\"],[0.1111111111111111,\"#46039f\"],[0.2222222222222222,\"#7201a8\"],[0.3333333333333333,\"#9c179e\"],[0.4444444444444444,\"#bd3786\"],[0.5555555555555556,\"#d8576b\"],[0.6666666666666666,\"#ed7953\"],[0.7777777777777778,\"#fb9f3a\"],[0.8888888888888888,\"#fdca26\"],[1.0,\"#f0f921\"]],\"type\":\"histogram2d\"}],\"histogram2dcontour\":[{\"colorbar\":{\"outlinewidth\":0,\"ticks\":\"\"},\"colorscale\":[[0.0,\"#0d0887\"],[0.1111111111111111,\"#46039f\"],[0.2222222222222222,\"#7201a8\"],[0.3333333333333333,\"#9c179e\"],[0.4444444444444444,\"#bd3786\"],[0.5555555555555556,\"#d8576b\"],[0.6666666666666666,\"#ed7953\"],[0.7777777777777778,\"#fb9f3a\"],[0.8888888888888888,\"#fdca26\"],[1.0,\"#f0f921\"]],\"type\":\"histogram2dcontour\"}],\"mesh3d\":[{\"colorbar\":{\"outlinewidth\":0,\"ticks\":\"\"},\"type\":\"mesh3d\"}],\"parcoords\":[{\"line\":{\"colorbar\":{\"outlinewidth\":0,\"ticks\":\"\"}},\"type\":\"parcoords\"}],\"pie\":[{\"automargin\":true,\"type\":\"pie\"}],\"scatter\":[{\"marker\":{\"colorbar\":{\"outlinewidth\":0,\"ticks\":\"\"}},\"type\":\"scatter\"}],\"scatter3d\":[{\"line\":{\"colorbar\":{\"outlinewidth\":0,\"ticks\":\"\"}},\"marker\":{\"colorbar\":{\"outlinewidth\":0,\"ticks\":\"\"}},\"type\":\"scatter3d\"}],\"scattercarpet\":[{\"marker\":{\"colorbar\":{\"outlinewidth\":0,\"ticks\":\"\"}},\"type\":\"scattercarpet\"}],\"scattergeo\":[{\"marker\":{\"colorbar\":{\"outlinewidth\":0,\"ticks\":\"\"}},\"type\":\"scattergeo\"}],\"scattergl\":[{\"marker\":{\"colorbar\":{\"outlinewidth\":0,\"ticks\":\"\"}},\"type\":\"scattergl\"}],\"scattermapbox\":[{\"marker\":{\"colorbar\":{\"outlinewidth\":0,\"ticks\":\"\"}},\"type\":\"scattermapbox\"}],\"scatterpolar\":[{\"marker\":{\"colorbar\":{\"outlinewidth\":0,\"ticks\":\"\"}},\"type\":\"scatterpolar\"}],\"scatterpolargl\":[{\"marker\":{\"colorbar\":{\"outlinewidth\":0,\"ticks\":\"\"}},\"type\":\"scatterpolargl\"}],\"scatterternary\":[{\"marker\":{\"colorbar\":{\"outlinewidth\":0,\"ticks\":\"\"}},\"type\":\"scatterternary\"}],\"surface\":[{\"colorbar\":{\"outlinewidth\":0,\"ticks\":\"\"},\"colorscale\":[[0.0,\"#0d0887\"],[0.1111111111111111,\"#46039f\"],[0.2222222222222222,\"#7201a8\"],[0.3333333333333333,\"#9c179e\"],[0.4444444444444444,\"#bd3786\"],[0.5555555555555556,\"#d8576b\"],[0.6666666666666666,\"#ed7953\"],[0.7777777777777778,\"#fb9f3a\"],[0.8888888888888888,\"#fdca26\"],[1.0,\"#f0f921\"]],\"type\":\"surface\"}],\"table\":[{\"cells\":{\"fill\":{\"color\":\"#EBF0F8\"},\"line\":{\"color\":\"white\"}},\"header\":{\"fill\":{\"color\":\"#C8D4E3\"},\"line\":{\"color\":\"white\"}},\"type\":\"table\"}]},\"layout\":{\"annotationdefaults\":{\"arrowcolor\":\"#2a3f5f\",\"arrowhead\":0,\"arrowwidth\":1},\"autotypenumbers\":\"strict\",\"coloraxis\":{\"colorbar\":{\"outlinewidth\":0,\"ticks\":\"\"}},\"colorscale\":{\"diverging\":[[0,\"#8e0152\"],[0.1,\"#c51b7d\"],[0.2,\"#de77ae\"],[0.3,\"#f1b6da\"],[0.4,\"#fde0ef\"],[0.5,\"#f7f7f7\"],[0.6,\"#e6f5d0\"],[0.7,\"#b8e186\"],[0.8,\"#7fbc41\"],[0.9,\"#4d9221\"],[1,\"#276419\"]],\"sequential\":[[0.0,\"#0d0887\"],[0.1111111111111111,\"#46039f\"],[0.2222222222222222,\"#7201a8\"],[0.3333333333333333,\"#9c179e\"],[0.4444444444444444,\"#bd3786\"],[0.5555555555555556,\"#d8576b\"],[0.6666666666666666,\"#ed7953\"],[0.7777777777777778,\"#fb9f3a\"],[0.8888888888888888,\"#fdca26\"],[1.0,\"#f0f921\"]],\"sequentialminus\":[[0.0,\"#0d0887\"],[0.1111111111111111,\"#46039f\"],[0.2222222222222222,\"#7201a8\"],[0.3333333333333333,\"#9c179e\"],[0.4444444444444444,\"#bd3786\"],[0.5555555555555556,\"#d8576b\"],[0.6666666666666666,\"#ed7953\"],[0.7777777777777778,\"#fb9f3a\"],[0.8888888888888888,\"#fdca26\"],[1.0,\"#f0f921\"]]},\"colorway\":[\"#636efa\",\"#EF553B\",\"#00cc96\",\"#ab63fa\",\"#FFA15A\",\"#19d3f3\",\"#FF6692\",\"#B6E880\",\"#FF97FF\",\"#FECB52\"],\"font\":{\"color\":\"#2a3f5f\"},\"geo\":{\"bgcolor\":\"white\",\"lakecolor\":\"white\",\"landcolor\":\"#E5ECF6\",\"showlakes\":true,\"showland\":true,\"subunitcolor\":\"white\"},\"hoverlabel\":{\"align\":\"left\"},\"hovermode\":\"closest\",\"mapbox\":{\"style\":\"light\"},\"paper_bgcolor\":\"white\",\"plot_bgcolor\":\"#E5ECF6\",\"polar\":{\"angularaxis\":{\"gridcolor\":\"white\",\"linecolor\":\"white\",\"ticks\":\"\"},\"bgcolor\":\"#E5ECF6\",\"radialaxis\":{\"gridcolor\":\"white\",\"linecolor\":\"white\",\"ticks\":\"\"}},\"scene\":{\"xaxis\":{\"backgroundcolor\":\"#E5ECF6\",\"gridcolor\":\"white\",\"gridwidth\":2,\"linecolor\":\"white\",\"showbackground\":true,\"ticks\":\"\",\"zerolinecolor\":\"white\"},\"yaxis\":{\"backgroundcolor\":\"#E5ECF6\",\"gridcolor\":\"white\",\"gridwidth\":2,\"linecolor\":\"white\",\"showbackground\":true,\"ticks\":\"\",\"zerolinecolor\":\"white\"},\"zaxis\":{\"backgroundcolor\":\"#E5ECF6\",\"gridcolor\":\"white\",\"gridwidth\":2,\"linecolor\":\"white\",\"showbackground\":true,\"ticks\":\"\",\"zerolinecolor\":\"white\"}},\"shapedefaults\":{\"line\":{\"color\":\"#2a3f5f\"}},\"ternary\":{\"aaxis\":{\"gridcolor\":\"white\",\"linecolor\":\"white\",\"ticks\":\"\"},\"baxis\":{\"gridcolor\":\"white\",\"linecolor\":\"white\",\"ticks\":\"\"},\"bgcolor\":\"#E5ECF6\",\"caxis\":{\"gridcolor\":\"white\",\"linecolor\":\"white\",\"ticks\":\"\"}},\"title\":{\"x\":0.05},\"xaxis\":{\"automargin\":true,\"gridcolor\":\"white\",\"linecolor\":\"white\",\"ticks\":\"\",\"title\":{\"standoff\":15},\"zerolinecolor\":\"white\",\"zerolinewidth\":2},\"yaxis\":{\"automargin\":true,\"gridcolor\":\"white\",\"linecolor\":\"white\",\"ticks\":\"\",\"title\":{\"standoff\":15},\"zerolinecolor\":\"white\",\"zerolinewidth\":2}}},\"xaxis\":{\"anchor\":\"y\",\"domain\":[0.0,1.0],\"title\":{\"text\":\"max_dd\"}},\"yaxis\":{\"anchor\":\"x\",\"domain\":[0.0,1.0],\"title\":{\"text\":\"pnl\"}},\"legend\":{\"title\":{\"text\":\"rank\"},\"tracegroupgap\":0},\"margin\":{\"t\":60}},                        {\"responsive\": true}                    ).then(function(){\n",
       "                            \n",
       "var gd = document.getElementById('c19abda3-f969-40cc-a377-1b36cc76421f');\n",
       "var x = new MutationObserver(function (mutations, observer) {{\n",
       "        var display = window.getComputedStyle(gd).display;\n",
       "        if (!display || display === 'none') {{\n",
       "            console.log([gd, 'removed!']);\n",
       "            Plotly.purge(gd);\n",
       "            observer.disconnect();\n",
       "        }}\n",
       "}});\n",
       "\n",
       "// Listen for the removal of the full notebook cells\n",
       "var notebookContainer = gd.closest('#notebook-container');\n",
       "if (notebookContainer) {{\n",
       "    x.observe(notebookContainer, {childList: true});\n",
       "}}\n",
       "\n",
       "// Listen for the clearing of the current output cell\n",
       "var outputEl = gd.closest('.output');\n",
       "if (outputEl) {{\n",
       "    x.observe(outputEl, {childList: true});\n",
       "}}\n",
       "\n",
       "                        })                };                });            </script>        </div>"
      ]
     },
     "metadata": {},
     "output_type": "display_data"
    }
   ],
   "source": [
    "px.scatter(df, x='max_dd', y='pnl', color='rank')"
   ]
  },
  {
   "cell_type": "code",
   "execution_count": null,
   "id": "c8d5c5b7-80c9-4de9-9612-dcca1d73c25f",
   "metadata": {},
   "outputs": [],
   "source": []
  }
 ],
 "metadata": {
  "kernelspec": {
   "display_name": "trading",
   "language": "python",
   "name": "trading"
  },
  "language_info": {
   "codemirror_mode": {
    "name": "ipython",
    "version": 3
   },
   "file_extension": ".py",
   "mimetype": "text/x-python",
   "name": "python",
   "nbconvert_exporter": "python",
   "pygments_lexer": "ipython3",
   "version": "3.9.1"
  }
 },
 "nbformat": 4,
 "nbformat_minor": 5
}
